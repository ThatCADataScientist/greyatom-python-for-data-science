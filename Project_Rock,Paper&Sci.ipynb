{
  "nbformat": 4,
  "nbformat_minor": 0,
  "metadata": {
    "colab": {
      "name": "Project -Rock,Paper&Sci.ipynb",
      "provenance": [],
      "collapsed_sections": [],
      "authorship_tag": "ABX9TyMsufyGkdp1i0jGwevaTRcz",
      "include_colab_link": true
    },
    "kernelspec": {
      "name": "python3",
      "display_name": "Python 3"
    }
  },
  "cells": [
    {
      "cell_type": "markdown",
      "metadata": {
        "id": "view-in-github",
        "colab_type": "text"
      },
      "source": [
        "<a href=\"https://colab.research.google.com/github/VarunNangalia/greyatom-python-for-data-science/blob/master/Project_Rock%2CPaper%26Sci.ipynb\" target=\"_parent\"><img src=\"https://colab.research.google.com/assets/colab-badge.svg\" alt=\"Open In Colab\"/></a>"
      ]
    },
    {
      "cell_type": "code",
      "metadata": {
        "id": "lCgEVKXU8C3p",
        "colab_type": "code",
        "outputId": "e49629e1-6bc6-4391-8576-f8cb06d1509f",
        "colab": {
          "base_uri": "https://localhost:8080/",
          "height": 204
        }
      },
      "source": [
        "import random\n",
        "import time\n",
        "print('1-rock , 2-paper, 3- scissor, 4- end')\n",
        "a = int(input('enter a number'))\n",
        "uscore = 0\n",
        "pcscore = 0\n",
        "while(a!=4):\n",
        "    \n",
        "    if a > 4 or a <= 0:\n",
        "        print(\"choose a correct number\")\n",
        "    else:       \n",
        "        if a == 1:\n",
        "             print('you choose rock')\n",
        "        elif a == 2:\n",
        "             print('you choose paper')\n",
        "        else:\n",
        "            print('you choose scissor')    \n",
        "\n",
        "\n",
        "        print('computer choosing')\n",
        "        time.sleep(3)     \n",
        "        b = random.randint(1,3)\n",
        "        if b == 1 :\n",
        "            print('PC choose 1-rock')\n",
        "        if b == 2 :\n",
        "            print('PC choose 2-paper')\n",
        "        if b == 3 :\n",
        "            print('PC choose 3-scissor')\n",
        "\n",
        "        time.sleep(2)\n",
        "\n",
        "        if (a == 1 and b == 1) or (a == 2 and b == 2) or (a == 3 and b == 3):\n",
        "            print('Tie')\n",
        "        if (a == 1 and b == 2) or (a == 2 and b == 3) or (a == 3 and b == 1):\n",
        "            print(\"PC wins\")\n",
        "            pcscore+=1\n",
        "            print(\"pc score: \", pcscore ,\"user score: \", uscore)\n",
        "        if (a == 1 and b == 3) or (a == 2 and b == 1) or (a == 3 and b == 2):\n",
        "            print('User wins')\n",
        "            uscore+=1\n",
        "            print(\"pc score: \", pcscore ,\"user score: \", uscore)\n",
        "    a = int(input('enter a number'))\n",
        "time.sleep(2)\n",
        "print('Final Score of user is {0} and PC is {1}'.format(uscore,pcscore))\n",
        "if pcscore > uscore :\n",
        "    print('PC wins the game')\n",
        "elif uscore > pcscore:\n",
        "    print('User wins the game')\n",
        "else :\n",
        "    print(\"The game is a tie\")\n",
        "print('game ends')\n",
        "\n",
        "\n"
      ],
      "execution_count": 0,
      "outputs": [
        {
          "output_type": "stream",
          "text": [
            "1-rock , 2-paper, 3- scissor, 4- end\n",
            "enter a number3\n",
            "you choose scissor\n",
            "computer choosing\n",
            "PC choose 2-paper\n",
            "User wins\n",
            "pc score:  0 user score:  1\n",
            "enter a number4\n",
            "Final Score of user is 1 and PC is 0\n",
            "User wins the game\n",
            "game ends\n"
          ],
          "name": "stdout"
        }
      ]
    },
    {
      "cell_type": "code",
      "metadata": {
        "id": "Ly4Ezdr88QDv",
        "colab_type": "code",
        "colab": {}
      },
      "source": [
        ""
      ],
      "execution_count": 0,
      "outputs": []
    }
  ]
}